{
 "cells": [
  {
   "cell_type": "markdown",
   "metadata": {},
   "source": [
    "# Regression"
   ]
  },
  {
   "cell_type": "code",
   "execution_count": 1,
   "metadata": {},
   "outputs": [],
   "source": [
    "# Data Manipulation\n",
    "import pandas as pd \n",
    "import numpy as np\n",
    "from sklearn.preprocessing import LabelEncoder\n",
    "\n",
    "# Data-Viz\n",
    "import matplotlib.pyplot as plt\n",
    "import seaborn as sns\n",
    "\n",
    "# OLS\n",
    "import statsmodels.api as sm\n",
    "from patsy import dmatrices\n",
    "\n",
    "# Metrics\n",
    "from sklearn.metrics import (\n",
    "    r2_score,\n",
    "    mean_squared_error   \n",
    ")"
   ]
  },
  {
   "cell_type": "markdown",
   "metadata": {},
   "source": [
    "## Reading data"
   ]
  },
  {
   "cell_type": "code",
   "execution_count": 2,
   "metadata": {},
   "outputs": [
    {
     "data": {
      "text/html": [
       "<div>\n",
       "<style scoped>\n",
       "    .dataframe tbody tr th:only-of-type {\n",
       "        vertical-align: middle;\n",
       "    }\n",
       "\n",
       "    .dataframe tbody tr th {\n",
       "        vertical-align: top;\n",
       "    }\n",
       "\n",
       "    .dataframe thead th {\n",
       "        text-align: right;\n",
       "    }\n",
       "</style>\n",
       "<table border=\"1\" class=\"dataframe\">\n",
       "  <thead>\n",
       "    <tr style=\"text-align: right;\">\n",
       "      <th></th>\n",
       "      <th>target</th>\n",
       "      <th>X1</th>\n",
       "      <th>X2</th>\n",
       "      <th>X3</th>\n",
       "      <th>X4</th>\n",
       "      <th>X5</th>\n",
       "      <th>X6</th>\n",
       "      <th>X7</th>\n",
       "    </tr>\n",
       "  </thead>\n",
       "  <tbody>\n",
       "    <tr>\n",
       "      <th>0</th>\n",
       "      <td>NaN</td>\n",
       "      <td>-0.546168</td>\n",
       "      <td>NaN</td>\n",
       "      <td>47.063305</td>\n",
       "      <td>1.611370</td>\n",
       "      <td>-65.882137</td>\n",
       "      <td>0</td>\n",
       "      <td>-16.672865</td>\n",
       "    </tr>\n",
       "    <tr>\n",
       "      <th>1</th>\n",
       "      <td>47.735389</td>\n",
       "      <td>3.074317</td>\n",
       "      <td>-2.836000</td>\n",
       "      <td>49.396649</td>\n",
       "      <td>0.261998</td>\n",
       "      <td>-66.570716</td>\n",
       "      <td>0</td>\n",
       "      <td>-6.664599</td>\n",
       "    </tr>\n",
       "    <tr>\n",
       "      <th>2</th>\n",
       "      <td>NaN</td>\n",
       "      <td>-1.485531</td>\n",
       "      <td>-13.102537</td>\n",
       "      <td>42.367991</td>\n",
       "      <td>3.991558</td>\n",
       "      <td>-67.108014</td>\n",
       "      <td>8</td>\n",
       "      <td>-30.790962</td>\n",
       "    </tr>\n",
       "    <tr>\n",
       "      <th>3</th>\n",
       "      <td>908.202209</td>\n",
       "      <td>6.907396</td>\n",
       "      <td>-0.308967</td>\n",
       "      <td>57.228787</td>\n",
       "      <td>0.256771</td>\n",
       "      <td>-66.181266</td>\n",
       "      <td>5</td>\n",
       "      <td>-0.726072</td>\n",
       "    </tr>\n",
       "    <tr>\n",
       "      <th>4</th>\n",
       "      <td>1640.461863</td>\n",
       "      <td>1.916788</td>\n",
       "      <td>3.460290</td>\n",
       "      <td>51.703375</td>\n",
       "      <td>2.463790</td>\n",
       "      <td>-65.143663</td>\n",
       "      <td>5</td>\n",
       "      <td>8.131680</td>\n",
       "    </tr>\n",
       "    <tr>\n",
       "      <th>...</th>\n",
       "      <td>...</td>\n",
       "      <td>...</td>\n",
       "      <td>...</td>\n",
       "      <td>...</td>\n",
       "      <td>...</td>\n",
       "      <td>...</td>\n",
       "      <td>...</td>\n",
       "      <td>...</td>\n",
       "    </tr>\n",
       "    <tr>\n",
       "      <th>1037</th>\n",
       "      <td>4296.426459</td>\n",
       "      <td>5.375810</td>\n",
       "      <td>6.937947</td>\n",
       "      <td>55.810467</td>\n",
       "      <td>1.698025</td>\n",
       "      <td>-65.819509</td>\n",
       "      <td>8</td>\n",
       "      <td>16.304176</td>\n",
       "    </tr>\n",
       "    <tr>\n",
       "      <th>1038</th>\n",
       "      <td>54.530919</td>\n",
       "      <td>0.619207</td>\n",
       "      <td>-1.925819</td>\n",
       "      <td>48.168606</td>\n",
       "      <td>1.357223</td>\n",
       "      <td>-65.385243</td>\n",
       "      <td>8</td>\n",
       "      <td>-4.525675</td>\n",
       "    </tr>\n",
       "    <tr>\n",
       "      <th>1039</th>\n",
       "      <td>1636.535078</td>\n",
       "      <td>4.548172</td>\n",
       "      <td>2.886253</td>\n",
       "      <td>47.775525</td>\n",
       "      <td>1.278439</td>\n",
       "      <td>-56.312543</td>\n",
       "      <td>8</td>\n",
       "      <td>6.782694</td>\n",
       "    </tr>\n",
       "    <tr>\n",
       "      <th>1040</th>\n",
       "      <td>NaN</td>\n",
       "      <td>1.806045</td>\n",
       "      <td>-3.015213</td>\n",
       "      <td>48.352707</td>\n",
       "      <td>4.627906</td>\n",
       "      <td>-57.722688</td>\n",
       "      <td>5</td>\n",
       "      <td>-7.085751</td>\n",
       "    </tr>\n",
       "    <tr>\n",
       "      <th>1041</th>\n",
       "      <td>2951.647675</td>\n",
       "      <td>6.002320</td>\n",
       "      <td>5.760220</td>\n",
       "      <td>41.926049</td>\n",
       "      <td>3.562797</td>\n",
       "      <td>-81.111346</td>\n",
       "      <td>8</td>\n",
       "      <td>13.536516</td>\n",
       "    </tr>\n",
       "  </tbody>\n",
       "</table>\n",
       "<p>1042 rows × 8 columns</p>\n",
       "</div>"
      ],
      "text/plain": [
       "           target        X1         X2         X3        X4         X5  X6  \\\n",
       "0             NaN -0.546168        NaN  47.063305  1.611370 -65.882137   0   \n",
       "1       47.735389  3.074317  -2.836000  49.396649  0.261998 -66.570716   0   \n",
       "2             NaN -1.485531 -13.102537  42.367991  3.991558 -67.108014   8   \n",
       "3      908.202209  6.907396  -0.308967  57.228787  0.256771 -66.181266   5   \n",
       "4     1640.461863  1.916788   3.460290  51.703375  2.463790 -65.143663   5   \n",
       "...           ...       ...        ...        ...       ...        ...  ..   \n",
       "1037  4296.426459  5.375810   6.937947  55.810467  1.698025 -65.819509   8   \n",
       "1038    54.530919  0.619207  -1.925819  48.168606  1.357223 -65.385243   8   \n",
       "1039  1636.535078  4.548172   2.886253  47.775525  1.278439 -56.312543   8   \n",
       "1040          NaN  1.806045  -3.015213  48.352707  4.627906 -57.722688   5   \n",
       "1041  2951.647675  6.002320   5.760220  41.926049  3.562797 -81.111346   8   \n",
       "\n",
       "             X7  \n",
       "0    -16.672865  \n",
       "1     -6.664599  \n",
       "2    -30.790962  \n",
       "3     -0.726072  \n",
       "4      8.131680  \n",
       "...         ...  \n",
       "1037  16.304176  \n",
       "1038  -4.525675  \n",
       "1039   6.782694  \n",
       "1040  -7.085751  \n",
       "1041  13.536516  \n",
       "\n",
       "[1042 rows x 8 columns]"
      ]
     },
     "execution_count": 2,
     "metadata": {},
     "output_type": "execute_result"
    }
   ],
   "source": [
    "train = pd.read_csv('../data/regression_data/regression_train.csv')\n",
    "train"
   ]
  },
  {
   "cell_type": "code",
   "execution_count": 3,
   "metadata": {},
   "outputs": [
    {
     "data": {
      "text/plain": [
       "target    0.313820\n",
       "X1        0.000000\n",
       "X2        0.010557\n",
       "X3        0.000000\n",
       "X4        0.000000\n",
       "X5        0.000000\n",
       "X6        0.000000\n",
       "X7        0.000000\n",
       "dtype: float64"
      ]
     },
     "execution_count": 3,
     "metadata": {},
     "output_type": "execute_result"
    }
   ],
   "source": [
    "train.isna().mean()"
   ]
  },
  {
   "cell_type": "code",
   "execution_count": 4,
   "metadata": {},
   "outputs": [
    {
     "data": {
      "text/html": [
       "<div>\n",
       "<style scoped>\n",
       "    .dataframe tbody tr th:only-of-type {\n",
       "        vertical-align: middle;\n",
       "    }\n",
       "\n",
       "    .dataframe tbody tr th {\n",
       "        vertical-align: top;\n",
       "    }\n",
       "\n",
       "    .dataframe thead th {\n",
       "        text-align: right;\n",
       "    }\n",
       "</style>\n",
       "<table border=\"1\" class=\"dataframe\">\n",
       "  <thead>\n",
       "    <tr style=\"text-align: right;\">\n",
       "      <th></th>\n",
       "      <th>target</th>\n",
       "      <th>X1</th>\n",
       "      <th>X2</th>\n",
       "      <th>X3</th>\n",
       "      <th>X4</th>\n",
       "      <th>X5</th>\n",
       "      <th>X6</th>\n",
       "      <th>X7</th>\n",
       "    </tr>\n",
       "  </thead>\n",
       "  <tbody>\n",
       "    <tr>\n",
       "      <th>0</th>\n",
       "      <td>3.436244</td>\n",
       "      <td>0.210854</td>\n",
       "      <td>-2.451307</td>\n",
       "      <td>51.239996</td>\n",
       "      <td>4.641751</td>\n",
       "      <td>-67.874319</td>\n",
       "      <td>5</td>\n",
       "      <td>-5.760571</td>\n",
       "    </tr>\n",
       "    <tr>\n",
       "      <th>1</th>\n",
       "      <td>1525.839412</td>\n",
       "      <td>2.157483</td>\n",
       "      <td>4.337776</td>\n",
       "      <td>43.828794</td>\n",
       "      <td>8.070219</td>\n",
       "      <td>-68.405526</td>\n",
       "      <td>8</td>\n",
       "      <td>10.193773</td>\n",
       "    </tr>\n",
       "    <tr>\n",
       "      <th>2</th>\n",
       "      <td>455.600191</td>\n",
       "      <td>5.166359</td>\n",
       "      <td>-0.452615</td>\n",
       "      <td>43.931305</td>\n",
       "      <td>1.349625</td>\n",
       "      <td>-66.240021</td>\n",
       "      <td>0</td>\n",
       "      <td>-1.063645</td>\n",
       "    </tr>\n",
       "    <tr>\n",
       "      <th>3</th>\n",
       "      <td>0.619759</td>\n",
       "      <td>3.276641</td>\n",
       "      <td>-3.607201</td>\n",
       "      <td>50.631046</td>\n",
       "      <td>2.473542</td>\n",
       "      <td>-69.971690</td>\n",
       "      <td>8</td>\n",
       "      <td>-8.476921</td>\n",
       "    </tr>\n",
       "    <tr>\n",
       "      <th>4</th>\n",
       "      <td>10.996472</td>\n",
       "      <td>-1.867485</td>\n",
       "      <td>-2.408863</td>\n",
       "      <td>58.660224</td>\n",
       "      <td>2.826219</td>\n",
       "      <td>-53.647149</td>\n",
       "      <td>5</td>\n",
       "      <td>-5.660827</td>\n",
       "    </tr>\n",
       "    <tr>\n",
       "      <th>...</th>\n",
       "      <td>...</td>\n",
       "      <td>...</td>\n",
       "      <td>...</td>\n",
       "      <td>...</td>\n",
       "      <td>...</td>\n",
       "      <td>...</td>\n",
       "      <td>...</td>\n",
       "      <td>...</td>\n",
       "    </tr>\n",
       "    <tr>\n",
       "      <th>256</th>\n",
       "      <td>555.785223</td>\n",
       "      <td>5.099614</td>\n",
       "      <td>-0.648889</td>\n",
       "      <td>54.770941</td>\n",
       "      <td>1.975509</td>\n",
       "      <td>-61.664039</td>\n",
       "      <td>8</td>\n",
       "      <td>-1.524890</td>\n",
       "    </tr>\n",
       "    <tr>\n",
       "      <th>257</th>\n",
       "      <td>624.578115</td>\n",
       "      <td>0.220241</td>\n",
       "      <td>1.410877</td>\n",
       "      <td>42.895015</td>\n",
       "      <td>0.639779</td>\n",
       "      <td>-66.077209</td>\n",
       "      <td>0</td>\n",
       "      <td>3.315561</td>\n",
       "    </tr>\n",
       "    <tr>\n",
       "      <th>258</th>\n",
       "      <td>NaN</td>\n",
       "      <td>1.066213</td>\n",
       "      <td>-5.569022</td>\n",
       "      <td>51.318035</td>\n",
       "      <td>1.994699</td>\n",
       "      <td>-64.081511</td>\n",
       "      <td>0</td>\n",
       "      <td>-13.087202</td>\n",
       "    </tr>\n",
       "    <tr>\n",
       "      <th>259</th>\n",
       "      <td>NaN</td>\n",
       "      <td>-2.260013</td>\n",
       "      <td>-10.854081</td>\n",
       "      <td>38.671378</td>\n",
       "      <td>1.065288</td>\n",
       "      <td>-66.732946</td>\n",
       "      <td>0</td>\n",
       "      <td>-25.507091</td>\n",
       "    </tr>\n",
       "    <tr>\n",
       "      <th>260</th>\n",
       "      <td>22.858984</td>\n",
       "      <td>-1.003001</td>\n",
       "      <td>-1.600670</td>\n",
       "      <td>49.784381</td>\n",
       "      <td>4.757053</td>\n",
       "      <td>-69.482447</td>\n",
       "      <td>5</td>\n",
       "      <td>-3.761574</td>\n",
       "    </tr>\n",
       "  </tbody>\n",
       "</table>\n",
       "<p>261 rows × 8 columns</p>\n",
       "</div>"
      ],
      "text/plain": [
       "          target        X1         X2         X3        X4         X5  X6  \\\n",
       "0       3.436244  0.210854  -2.451307  51.239996  4.641751 -67.874319   5   \n",
       "1    1525.839412  2.157483   4.337776  43.828794  8.070219 -68.405526   8   \n",
       "2     455.600191  5.166359  -0.452615  43.931305  1.349625 -66.240021   0   \n",
       "3       0.619759  3.276641  -3.607201  50.631046  2.473542 -69.971690   8   \n",
       "4      10.996472 -1.867485  -2.408863  58.660224  2.826219 -53.647149   5   \n",
       "..           ...       ...        ...        ...       ...        ...  ..   \n",
       "256   555.785223  5.099614  -0.648889  54.770941  1.975509 -61.664039   8   \n",
       "257   624.578115  0.220241   1.410877  42.895015  0.639779 -66.077209   0   \n",
       "258          NaN  1.066213  -5.569022  51.318035  1.994699 -64.081511   0   \n",
       "259          NaN -2.260013 -10.854081  38.671378  1.065288 -66.732946   0   \n",
       "260    22.858984 -1.003001  -1.600670  49.784381  4.757053 -69.482447   5   \n",
       "\n",
       "            X7  \n",
       "0    -5.760571  \n",
       "1    10.193773  \n",
       "2    -1.063645  \n",
       "3    -8.476921  \n",
       "4    -5.660827  \n",
       "..         ...  \n",
       "256  -1.524890  \n",
       "257   3.315561  \n",
       "258 -13.087202  \n",
       "259 -25.507091  \n",
       "260  -3.761574  \n",
       "\n",
       "[261 rows x 8 columns]"
      ]
     },
     "execution_count": 4,
     "metadata": {},
     "output_type": "execute_result"
    }
   ],
   "source": [
    "test = pd.read_csv('../data/regression_data/regression_test.csv')\n",
    "test"
   ]
  },
  {
   "cell_type": "code",
   "execution_count": 5,
   "metadata": {},
   "outputs": [
    {
     "data": {
      "text/plain": [
       "target    0.310345\n",
       "X1        0.000000\n",
       "X2        0.000000\n",
       "X3        0.000000\n",
       "X4        0.000000\n",
       "X5        0.000000\n",
       "X6        0.000000\n",
       "X7        0.000000\n",
       "dtype: float64"
      ]
     },
     "execution_count": 5,
     "metadata": {},
     "output_type": "execute_result"
    }
   ],
   "source": [
    "test.isna().mean()"
   ]
  },
  {
   "cell_type": "markdown",
   "metadata": {},
   "source": [
    "Como temos muito NA's na própria variável \"target\", iremos apenas remover as linhas que contém esses NA's. O nosso objetivo é criar um regressor da variável target, sem ela não adianta as informações providenciadas pelas outras colunas."
   ]
  },
  {
   "cell_type": "code",
   "execution_count": 6,
   "metadata": {},
   "outputs": [],
   "source": [
    "train.dropna(inplace=True)\n",
    "test.dropna(inplace=True)"
   ]
  },
  {
   "cell_type": "markdown",
   "metadata": {},
   "source": [
    "## EDA"
   ]
  },
  {
   "cell_type": "code",
   "execution_count": 7,
   "metadata": {},
   "outputs": [
    {
     "data": {
      "text/plain": [
       "<AxesSubplot:>"
      ]
     },
     "execution_count": 7,
     "metadata": {},
     "output_type": "execute_result"
    },
    {
     "data": {
      "image/png": "[encoded data removed]",
      "text/plain": [
       "<Figure size 864x720 with 2 Axes>"
      ]
     },
     "metadata": {
      "needs_background": "light"
     },
     "output_type": "display_data"
    }
   ],
   "source": [
    "corr = train.corr()\n",
    "\n",
    "plt.figure(figsize=(12, 10))\n",
    "\n",
    "sns.heatmap(corr[abs(corr) > 0.4],\n",
    "            cmap='viridis', vmax=1.0, vmin=-1.0, linewidths=0.1,\n",
    "            annot=True, annot_kws={\"size\": 8}, square=True)"
   ]
  },
  {
   "cell_type": "markdown",
   "metadata": {},
   "source": [
    "Distribuição da única variável discreta do conjunto."
   ]
  },
  {
   "cell_type": "code",
   "execution_count": 8,
   "metadata": {},
   "outputs": [
    {
     "data": {
      "text/plain": [
       "(array([213.,   0.,   0.,   0.,   0.,   0., 248.,   0.,   0., 254.]),\n",
       " array([0. , 0.8, 1.6, 2.4, 3.2, 4. , 4.8, 5.6, 6.4, 7.2, 8. ]),\n",
       " <BarContainer object of 10 artists>)"
      ]
     },
     "execution_count": 8,
     "metadata": {},
     "output_type": "execute_result"
    },
    {
     "data": {
      "image/png": "[encoded data removed]",
      "text/plain": [
       "<Figure size 432x288 with 1 Axes>"
      ]
     },
     "metadata": {
      "needs_background": "light"
     },
     "output_type": "display_data"
    }
   ],
   "source": [
    "plt.hist(train['X6'])"
   ]
  },
  {
   "cell_type": "code",
   "execution_count": 9,
   "metadata": {},
   "outputs": [
    {
     "data": {
      "text/plain": [
       "(array([407., 152.,  72.,  39.,  19.,  10.,   4.,   8.,   2.,   2.]),\n",
       " array([6.25508304e-02, 1.03830324e+03, 2.07654394e+03, 3.11478463e+03,\n",
       "        4.15302532e+03, 5.19126602e+03, 6.22950671e+03, 7.26774740e+03,\n",
       "        8.30598809e+03, 9.34422879e+03, 1.03824695e+04]),\n",
       " <BarContainer object of 10 artists>)"
      ]
     },
     "execution_count": 9,
     "metadata": {},
     "output_type": "execute_result"
    },
    {
     "data": {
      "image/png": "[encoded data removed]",
      "text/plain": [
       "<Figure size 432x288 with 1 Axes>"
      ]
     },
     "metadata": {
      "needs_background": "light"
     },
     "output_type": "display_data"
    }
   ],
   "source": [
    "plt.hist(train['target'])"
   ]
  },
  {
   "cell_type": "markdown",
   "metadata": {},
   "source": [
    "## Modelling\n",
    "\n",
    "## Ordinary Least Squares (OLS)\n",
    "\n",
    "Inicialmente, iremos modelar usando Regressão Linear Múltipla, onde se assume que a variável 'target' tem distribuição normal, além de assumir variância única para todas as observações. Porém, já tem-se suspeita de que não é um modelo adequado dado que a nossa variável 'target' não tem as características de uma distribuição normal: falta de simetria, etc."
   ]
  },
  {
   "cell_type": "code",
   "execution_count": 10,
   "metadata": {},
   "outputs": [],
   "source": [
    "from scipy import stats\n",
    "fitted_data, lambda_value = stats.boxcox(train['target'])\n",
    "train['target'] = fitted_data\n",
    "test['target'] = stats.boxcox(test['target'], lmbda= lambda_value)"
   ]
  },
  {
   "cell_type": "code",
   "execution_count": 11,
   "metadata": {},
   "outputs": [
    {
     "name": "stdout",
     "output_type": "stream",
     "text": [
      "                            OLS Regression Results                            \n",
      "==============================================================================\n",
      "Dep. Variable:                 target   R-squared:                       0.938\n",
      "Model:                            OLS   Adj. R-squared:                  0.938\n",
      "Method:                 Least Squares   F-statistic:                     1799.\n",
      "Date:                Sat, 08 May 2021   Prob (F-statistic):               0.00\n",
      "Time:                        23:41:28   Log-Likelihood:                -1442.7\n",
      "No. Observations:                 715   AIC:                             2899.\n",
      "Df Residuals:                     708   BIC:                             2931.\n",
      "Df Model:                           6                                         \n",
      "Covariance Type:            nonrobust                                         \n",
      "==============================================================================\n",
      "                 coef    std err          t      P>|t|      [0.025      0.975]\n",
      "------------------------------------------------------------------------------\n",
      "X1             0.5424      0.026     20.574      0.000       0.491       0.594\n",
      "X2             0.3008      0.004     84.662      0.000       0.294       0.308\n",
      "X3             0.1566      0.017      9.245      0.000       0.123       0.190\n",
      "X4            -0.2168      0.028     -7.829      0.000      -0.271      -0.162\n",
      "X5            -0.0090      0.007     -1.253      0.211      -0.023       0.005\n",
      "X6             0.0121      0.021      0.570      0.569      -0.030       0.054\n",
      "X7             0.7069      0.008     84.662      0.000       0.690       0.723\n",
      "const          3.9933      0.984      4.056      0.000       2.060       5.926\n",
      "==============================================================================\n",
      "Omnibus:                      258.268   Durbin-Watson:                   1.991\n",
      "Prob(Omnibus):                  0.000   Jarque-Bera (JB):              726.382\n",
      "Skew:                          -1.840   Prob(JB):                    1.85e-158\n",
      "Kurtosis:                       6.293   Cond. No.                     3.03e+16\n",
      "==============================================================================\n",
      "\n",
      "Notes:\n",
      "[1] Standard Errors assume that the covariance matrix of the errors is correctly specified.\n",
      "[2] The smallest eigenvalue is 5.35e-27. This might indicate that there are\n",
      "strong multicollinearity problems or that the design matrix is singular.\n"
     ]
    }
   ],
   "source": [
    "train['const'] = 1\n",
    "reg = sm.OLS(endog=train['target'], exog=train.drop(columns=['target']),\n",
    "             missing='drop', hasconst=True)\n",
    "results = reg.fit()\n",
    "\n",
    "print(results.summary())"
   ]
  },
  {
   "cell_type": "code",
   "execution_count": 12,
   "metadata": {},
   "outputs": [
    {
     "name": "stderr",
     "output_type": "stream",
     "text": [
      "/home/adriel_martins/.cache/pypoetry/virtualenvs/desafio-oncase-Lx6s8YPY-py3.8/lib/python3.8/site-packages/statsmodels/graphics/gofplots.py:993: UserWarning: marker is redundantly defined by the 'marker' keyword argument and the fmt string \"bo\" (-> marker='o'). The keyword argument will take precedence.\n",
      "  ax.plot(x, y, fmt, **plot_style)\n"
     ]
    },
    {
     "data": {
      "image/png": "[encoded data removed]",
      "text/plain": [
       "<Figure size 432x288 with 1 Axes>"
      ]
     },
     "execution_count": 12,
     "metadata": {},
     "output_type": "execute_result"
    },
    {
     "data": {
      "image/png": "[encoded data removed]",
      "text/plain": [
       "<Figure size 432x288 with 1 Axes>"
      ]
     },
     "metadata": {
      "needs_background": "light"
     },
     "output_type": "display_data"
    }
   ],
   "source": [
    "sm.qqplot(results.resid, line='s')"
   ]
  },
  {
   "cell_type": "markdown",
   "metadata": {},
   "source": [
    "Como podemos ver, não podemos confiar na nossa hipótese de distribuição gaussiana para a variável target, pois temos que se isso foste verdadeiro, os resíduos gerados pelo modelo também teriam distribuição gaussiana, o que não é verdade. Consequentemente, não podemos confiar nas estimativas para a variância de cada coeficiente, e nem podemos confiar no teste t ou teste marginal para identificar se aquele coeficiente é sequer importante.\n",
    "\n",
    "Sendo assim, iremos realizar **Regressão Bootstrap**. Ou seja, iremos amostrar N amostras B vezes e para cada b-ésima vez iremos estimar os parâmetros da regressão. Essas amostras são _com reposição_. Sendo assim, teremos uma distribuição empírica que nos trará confiança sobre as conclusões inferenciais que traremos sobre ela. O valor que escolheremos de N será do próprio tamanho da amostra original."
   ]
  },
  {
   "cell_type": "code",
   "execution_count": 13,
   "metadata": {},
   "outputs": [],
   "source": [
    "class OLS_Bootstrap:\n",
    "    def _get_regression_coef(self, train):\n",
    "        reg = sm.OLS(endog=train['target'], exog=train.drop(columns=['target']),\n",
    "                     missing='drop')\n",
    "        results = reg.fit()\n",
    "\n",
    "        return results.params\n",
    "\n",
    "    def _bootstrap_regression_coef(self, data, B):\n",
    "        boot_df = pd.DataFrame()\n",
    "        for B in np.arange(B):\n",
    "            data_b = data.sample(frac=1, replace=True)\n",
    "            reg_coef_b = self._get_regression_coef(data_b).T\n",
    "            boot_df = pd.concat([boot_df, reg_coef_b], axis=1)\n",
    "\n",
    "        boot_df.columns = ['B' + str(i) for i in np.arange(B+1)]\n",
    "\n",
    "        return boot_df.T\n",
    "    \n",
    "    def fit(self, data, B):\n",
    "        self.boot_df = self._bootstrap_regression_coef(data, B)\n",
    "        self.params = self.boot_df.mean()\n",
    "        self._train_data = data\n",
    "        self.resid = self.predict() - data['target']\n",
    "    \n",
    "    def confidence_intervals(self, p=0.05):\n",
    "        return self.boot_df.quantile(q=[p/2, 1-(p/2)], axis=0)\n",
    "    \n",
    "    def predict(self, new_data=None):\n",
    "        if new_data is None:\n",
    "            new_data = self._train_data\n",
    "            \n",
    "        X = new_data.loc[:, self.boot_df.mean().index.tolist()]\n",
    "        beta = self.boot_df.mean()\n",
    "        y_pred = np.matmul(X.values, beta.values)\n",
    "            \n",
    "        return y_pred"
   ]
  },
  {
   "cell_type": "code",
   "execution_count": 14,
   "metadata": {},
   "outputs": [
    {
     "data": {
      "text/html": [
       "<div>\n",
       "<style scoped>\n",
       "    .dataframe tbody tr th:only-of-type {\n",
       "        vertical-align: middle;\n",
       "    }\n",
       "\n",
       "    .dataframe tbody tr th {\n",
       "        vertical-align: top;\n",
       "    }\n",
       "\n",
       "    .dataframe thead th {\n",
       "        text-align: right;\n",
       "    }\n",
       "</style>\n",
       "<table border=\"1\" class=\"dataframe\">\n",
       "  <thead>\n",
       "    <tr style=\"text-align: right;\">\n",
       "      <th></th>\n",
       "      <th>X1</th>\n",
       "      <th>X2</th>\n",
       "      <th>X3</th>\n",
       "      <th>X4</th>\n",
       "      <th>X5</th>\n",
       "      <th>X6</th>\n",
       "      <th>X7</th>\n",
       "      <th>const</th>\n",
       "    </tr>\n",
       "  </thead>\n",
       "  <tbody>\n",
       "    <tr>\n",
       "      <th>B0</th>\n",
       "      <td>0.566177</td>\n",
       "      <td>0.294215</td>\n",
       "      <td>0.184122</td>\n",
       "      <td>-0.207037</td>\n",
       "      <td>-0.006514</td>\n",
       "      <td>-0.001361</td>\n",
       "      <td>0.691405</td>\n",
       "      <td>2.813666</td>\n",
       "    </tr>\n",
       "    <tr>\n",
       "      <th>B1</th>\n",
       "      <td>0.516369</td>\n",
       "      <td>0.303608</td>\n",
       "      <td>0.150432</td>\n",
       "      <td>-0.194938</td>\n",
       "      <td>-0.004923</td>\n",
       "      <td>0.048275</td>\n",
       "      <td>0.713480</td>\n",
       "      <td>4.497053</td>\n",
       "    </tr>\n",
       "    <tr>\n",
       "      <th>B2</th>\n",
       "      <td>0.551570</td>\n",
       "      <td>0.296213</td>\n",
       "      <td>0.147686</td>\n",
       "      <td>-0.209874</td>\n",
       "      <td>-0.013791</td>\n",
       "      <td>0.017463</td>\n",
       "      <td>0.696100</td>\n",
       "      <td>4.088044</td>\n",
       "    </tr>\n",
       "    <tr>\n",
       "      <th>B3</th>\n",
       "      <td>0.523405</td>\n",
       "      <td>0.306810</td>\n",
       "      <td>0.171610</td>\n",
       "      <td>-0.201755</td>\n",
       "      <td>-0.002497</td>\n",
       "      <td>0.046096</td>\n",
       "      <td>0.721004</td>\n",
       "      <td>3.549810</td>\n",
       "    </tr>\n",
       "    <tr>\n",
       "      <th>B4</th>\n",
       "      <td>0.501807</td>\n",
       "      <td>0.293191</td>\n",
       "      <td>0.167443</td>\n",
       "      <td>-0.255561</td>\n",
       "      <td>-0.008214</td>\n",
       "      <td>0.026990</td>\n",
       "      <td>0.688998</td>\n",
       "      <td>3.725926</td>\n",
       "    </tr>\n",
       "    <tr>\n",
       "      <th>...</th>\n",
       "      <td>...</td>\n",
       "      <td>...</td>\n",
       "      <td>...</td>\n",
       "      <td>...</td>\n",
       "      <td>...</td>\n",
       "      <td>...</td>\n",
       "      <td>...</td>\n",
       "      <td>...</td>\n",
       "    </tr>\n",
       "    <tr>\n",
       "      <th>B995</th>\n",
       "      <td>0.537584</td>\n",
       "      <td>0.305123</td>\n",
       "      <td>0.156203</td>\n",
       "      <td>-0.233129</td>\n",
       "      <td>-0.010518</td>\n",
       "      <td>-0.001853</td>\n",
       "      <td>0.717040</td>\n",
       "      <td>3.898113</td>\n",
       "    </tr>\n",
       "    <tr>\n",
       "      <th>B996</th>\n",
       "      <td>0.564656</td>\n",
       "      <td>0.309232</td>\n",
       "      <td>0.170309</td>\n",
       "      <td>-0.237842</td>\n",
       "      <td>-0.009643</td>\n",
       "      <td>0.002752</td>\n",
       "      <td>0.726696</td>\n",
       "      <td>3.335639</td>\n",
       "    </tr>\n",
       "    <tr>\n",
       "      <th>B997</th>\n",
       "      <td>0.534106</td>\n",
       "      <td>0.299908</td>\n",
       "      <td>0.159374</td>\n",
       "      <td>-0.219202</td>\n",
       "      <td>-0.004578</td>\n",
       "      <td>0.018265</td>\n",
       "      <td>0.704784</td>\n",
       "      <td>4.183812</td>\n",
       "    </tr>\n",
       "    <tr>\n",
       "      <th>B998</th>\n",
       "      <td>0.510198</td>\n",
       "      <td>0.299999</td>\n",
       "      <td>0.142082</td>\n",
       "      <td>-0.204456</td>\n",
       "      <td>-0.019355</td>\n",
       "      <td>0.028047</td>\n",
       "      <td>0.704997</td>\n",
       "      <td>4.097870</td>\n",
       "    </tr>\n",
       "    <tr>\n",
       "      <th>B999</th>\n",
       "      <td>0.525470</td>\n",
       "      <td>0.304690</td>\n",
       "      <td>0.177159</td>\n",
       "      <td>-0.211128</td>\n",
       "      <td>-0.013467</td>\n",
       "      <td>-0.001665</td>\n",
       "      <td>0.716022</td>\n",
       "      <td>2.762827</td>\n",
       "    </tr>\n",
       "  </tbody>\n",
       "</table>\n",
       "<p>1000 rows × 8 columns</p>\n",
       "</div>"
      ],
      "text/plain": [
       "            X1        X2        X3        X4        X5        X6        X7  \\\n",
       "B0    0.566177  0.294215  0.184122 -0.207037 -0.006514 -0.001361  0.691405   \n",
       "B1    0.516369  0.303608  0.150432 -0.194938 -0.004923  0.048275  0.713480   \n",
       "B2    0.551570  0.296213  0.147686 -0.209874 -0.013791  0.017463  0.696100   \n",
       "B3    0.523405  0.306810  0.171610 -0.201755 -0.002497  0.046096  0.721004   \n",
       "B4    0.501807  0.293191  0.167443 -0.255561 -0.008214  0.026990  0.688998   \n",
       "...        ...       ...       ...       ...       ...       ...       ...   \n",
       "B995  0.537584  0.305123  0.156203 -0.233129 -0.010518 -0.001853  0.717040   \n",
       "B996  0.564656  0.309232  0.170309 -0.237842 -0.009643  0.002752  0.726696   \n",
       "B997  0.534106  0.299908  0.159374 -0.219202 -0.004578  0.018265  0.704784   \n",
       "B998  0.510198  0.299999  0.142082 -0.204456 -0.019355  0.028047  0.704997   \n",
       "B999  0.525470  0.304690  0.177159 -0.211128 -0.013467 -0.001665  0.716022   \n",
       "\n",
       "         const  \n",
       "B0    2.813666  \n",
       "B1    4.497053  \n",
       "B2    4.088044  \n",
       "B3    3.549810  \n",
       "B4    3.725926  \n",
       "...        ...  \n",
       "B995  3.898113  \n",
       "B996  3.335639  \n",
       "B997  4.183812  \n",
       "B998  4.097870  \n",
       "B999  2.762827  \n",
       "\n",
       "[1000 rows x 8 columns]"
      ]
     },
     "execution_count": 14,
     "metadata": {},
     "output_type": "execute_result"
    }
   ],
   "source": [
    "ols_boot = OLS_Bootstrap()\n",
    "ols_boot.fit(train, B=1000)\n",
    "ols_boot.boot_df"
   ]
  },
  {
   "cell_type": "code",
   "execution_count": 15,
   "metadata": {},
   "outputs": [
    {
     "data": {
      "text/plain": [
       "array([[<AxesSubplot:title={'center':'X1'}>,\n",
       "        <AxesSubplot:title={'center':'X2'}>,\n",
       "        <AxesSubplot:title={'center':'X3'}>],\n",
       "       [<AxesSubplot:title={'center':'X4'}>,\n",
       "        <AxesSubplot:title={'center':'X5'}>,\n",
       "        <AxesSubplot:title={'center':'X6'}>],\n",
       "       [<AxesSubplot:title={'center':'X7'}>,\n",
       "        <AxesSubplot:title={'center':'const'}>, <AxesSubplot:>]],\n",
       "      dtype=object)"
      ]
     },
     "execution_count": 15,
     "metadata": {},
     "output_type": "execute_result"
    },
    {
     "data": {
      "image/png": "[encoded data removed]",
      "text/plain": [
       "<Figure size 1152x1440 with 9 Axes>"
      ]
     },
     "metadata": {
      "needs_background": "light"
     },
     "output_type": "display_data"
    }
   ],
   "source": [
    "ols_boot.boot_df.hist(figsize=(16, 20), bins=50)"
   ]
  },
  {
   "cell_type": "markdown",
   "metadata": {},
   "source": [
    "Uma vez tendo encontrado a distribuição empírica dos coeficientes, iremos agora buscar um intervalo de confiança e também realizar um teste de hipótese se os coeficientes são zero ao nível de significância de 5%.\n",
    "\n",
    "### Teste de Hipótese e Intervalo de Confiança"
   ]
  },
  {
   "cell_type": "code",
   "execution_count": 16,
   "metadata": {},
   "outputs": [
    {
     "data": {
      "text/html": [
       "<div>\n",
       "<style scoped>\n",
       "    .dataframe tbody tr th:only-of-type {\n",
       "        vertical-align: middle;\n",
       "    }\n",
       "\n",
       "    .dataframe tbody tr th {\n",
       "        vertical-align: top;\n",
       "    }\n",
       "\n",
       "    .dataframe thead th {\n",
       "        text-align: right;\n",
       "    }\n",
       "</style>\n",
       "<table border=\"1\" class=\"dataframe\">\n",
       "  <thead>\n",
       "    <tr style=\"text-align: right;\">\n",
       "      <th></th>\n",
       "      <th>X1</th>\n",
       "      <th>X2</th>\n",
       "      <th>X3</th>\n",
       "      <th>X4</th>\n",
       "      <th>X5</th>\n",
       "      <th>X6</th>\n",
       "      <th>X7</th>\n",
       "      <th>const</th>\n",
       "    </tr>\n",
       "  </thead>\n",
       "  <tbody>\n",
       "    <tr>\n",
       "      <th>0.025</th>\n",
       "      <td>0.489493</td>\n",
       "      <td>0.290862</td>\n",
       "      <td>0.126231</td>\n",
       "      <td>-0.265534</td>\n",
       "      <td>-0.024525</td>\n",
       "      <td>-0.026979</td>\n",
       "      <td>0.683526</td>\n",
       "      <td>2.119700</td>\n",
       "    </tr>\n",
       "    <tr>\n",
       "      <th>0.975</th>\n",
       "      <td>0.596058</td>\n",
       "      <td>0.310838</td>\n",
       "      <td>0.189066</td>\n",
       "      <td>-0.168636</td>\n",
       "      <td>0.002259</td>\n",
       "      <td>0.050361</td>\n",
       "      <td>0.730468</td>\n",
       "      <td>5.659556</td>\n",
       "    </tr>\n",
       "  </tbody>\n",
       "</table>\n",
       "</div>"
      ],
      "text/plain": [
       "             X1        X2        X3        X4        X5        X6        X7  \\\n",
       "0.025  0.489493  0.290862  0.126231 -0.265534 -0.024525 -0.026979  0.683526   \n",
       "0.975  0.596058  0.310838  0.189066 -0.168636  0.002259  0.050361  0.730468   \n",
       "\n",
       "          const  \n",
       "0.025  2.119700  \n",
       "0.975  5.659556  "
      ]
     },
     "execution_count": 16,
     "metadata": {},
     "output_type": "execute_result"
    }
   ],
   "source": [
    "ols_boot.confidence_intervals()"
   ]
  },
  {
   "cell_type": "markdown",
   "metadata": {},
   "source": [
    "Vemos que os coeficientes X6 e a constante são estatisticamente 0 ao nível de significância de 5%. Portanto, iremos rodar novamente a nossa regressão bootstrap sem essas variávéis. Além disso, iremos realizar o teste de hipótese novamente."
   ]
  },
  {
   "cell_type": "code",
   "execution_count": 17,
   "metadata": {},
   "outputs": [
    {
     "data": {
      "text/html": [
       "<div>\n",
       "<style scoped>\n",
       "    .dataframe tbody tr th:only-of-type {\n",
       "        vertical-align: middle;\n",
       "    }\n",
       "\n",
       "    .dataframe tbody tr th {\n",
       "        vertical-align: top;\n",
       "    }\n",
       "\n",
       "    .dataframe thead th {\n",
       "        text-align: right;\n",
       "    }\n",
       "</style>\n",
       "<table border=\"1\" class=\"dataframe\">\n",
       "  <thead>\n",
       "    <tr style=\"text-align: right;\">\n",
       "      <th></th>\n",
       "      <th>X1</th>\n",
       "      <th>X2</th>\n",
       "      <th>X3</th>\n",
       "      <th>X4</th>\n",
       "      <th>X7</th>\n",
       "      <th>const</th>\n",
       "    </tr>\n",
       "  </thead>\n",
       "  <tbody>\n",
       "    <tr>\n",
       "      <th>B0</th>\n",
       "      <td>0.507170</td>\n",
       "      <td>0.299378</td>\n",
       "      <td>0.141212</td>\n",
       "      <td>-0.200948</td>\n",
       "      <td>0.703538</td>\n",
       "      <td>5.480585</td>\n",
       "    </tr>\n",
       "    <tr>\n",
       "      <th>B1</th>\n",
       "      <td>0.511319</td>\n",
       "      <td>0.302811</td>\n",
       "      <td>0.167316</td>\n",
       "      <td>-0.199888</td>\n",
       "      <td>0.711607</td>\n",
       "      <td>4.032885</td>\n",
       "    </tr>\n",
       "    <tr>\n",
       "      <th>B2</th>\n",
       "      <td>0.550571</td>\n",
       "      <td>0.297185</td>\n",
       "      <td>0.142473</td>\n",
       "      <td>-0.204751</td>\n",
       "      <td>0.698384</td>\n",
       "      <td>5.342698</td>\n",
       "    </tr>\n",
       "    <tr>\n",
       "      <th>B3</th>\n",
       "      <td>0.572624</td>\n",
       "      <td>0.304491</td>\n",
       "      <td>0.139336</td>\n",
       "      <td>-0.233475</td>\n",
       "      <td>0.715554</td>\n",
       "      <td>5.339878</td>\n",
       "    </tr>\n",
       "    <tr>\n",
       "      <th>B4</th>\n",
       "      <td>0.553469</td>\n",
       "      <td>0.299491</td>\n",
       "      <td>0.167374</td>\n",
       "      <td>-0.196856</td>\n",
       "      <td>0.703803</td>\n",
       "      <td>4.019436</td>\n",
       "    </tr>\n",
       "    <tr>\n",
       "      <th>...</th>\n",
       "      <td>...</td>\n",
       "      <td>...</td>\n",
       "      <td>...</td>\n",
       "      <td>...</td>\n",
       "      <td>...</td>\n",
       "      <td>...</td>\n",
       "    </tr>\n",
       "    <tr>\n",
       "      <th>B995</th>\n",
       "      <td>0.528662</td>\n",
       "      <td>0.295424</td>\n",
       "      <td>0.161497</td>\n",
       "      <td>-0.208848</td>\n",
       "      <td>0.694247</td>\n",
       "      <td>4.575572</td>\n",
       "    </tr>\n",
       "    <tr>\n",
       "      <th>B996</th>\n",
       "      <td>0.537747</td>\n",
       "      <td>0.301203</td>\n",
       "      <td>0.179504</td>\n",
       "      <td>-0.196564</td>\n",
       "      <td>0.707828</td>\n",
       "      <td>3.362698</td>\n",
       "    </tr>\n",
       "    <tr>\n",
       "      <th>B997</th>\n",
       "      <td>0.530321</td>\n",
       "      <td>0.300531</td>\n",
       "      <td>0.136543</td>\n",
       "      <td>-0.222699</td>\n",
       "      <td>0.706248</td>\n",
       "      <td>5.726753</td>\n",
       "    </tr>\n",
       "    <tr>\n",
       "      <th>B998</th>\n",
       "      <td>0.579931</td>\n",
       "      <td>0.298526</td>\n",
       "      <td>0.175522</td>\n",
       "      <td>-0.265371</td>\n",
       "      <td>0.701537</td>\n",
       "      <td>3.724423</td>\n",
       "    </tr>\n",
       "    <tr>\n",
       "      <th>B999</th>\n",
       "      <td>0.522579</td>\n",
       "      <td>0.292378</td>\n",
       "      <td>0.144801</td>\n",
       "      <td>-0.197055</td>\n",
       "      <td>0.687088</td>\n",
       "      <td>5.375747</td>\n",
       "    </tr>\n",
       "  </tbody>\n",
       "</table>\n",
       "<p>1000 rows × 6 columns</p>\n",
       "</div>"
      ],
      "text/plain": [
       "            X1        X2        X3        X4        X7     const\n",
       "B0    0.507170  0.299378  0.141212 -0.200948  0.703538  5.480585\n",
       "B1    0.511319  0.302811  0.167316 -0.199888  0.711607  4.032885\n",
       "B2    0.550571  0.297185  0.142473 -0.204751  0.698384  5.342698\n",
       "B3    0.572624  0.304491  0.139336 -0.233475  0.715554  5.339878\n",
       "B4    0.553469  0.299491  0.167374 -0.196856  0.703803  4.019436\n",
       "...        ...       ...       ...       ...       ...       ...\n",
       "B995  0.528662  0.295424  0.161497 -0.208848  0.694247  4.575572\n",
       "B996  0.537747  0.301203  0.179504 -0.196564  0.707828  3.362698\n",
       "B997  0.530321  0.300531  0.136543 -0.222699  0.706248  5.726753\n",
       "B998  0.579931  0.298526  0.175522 -0.265371  0.701537  3.724423\n",
       "B999  0.522579  0.292378  0.144801 -0.197055  0.687088  5.375747\n",
       "\n",
       "[1000 rows x 6 columns]"
      ]
     },
     "execution_count": 17,
     "metadata": {},
     "output_type": "execute_result"
    }
   ],
   "source": [
    "ols_boot.fit(train.drop(columns=['X6', 'X5']), B = 1000)\n",
    "ols_boot.boot_df"
   ]
  },
  {
   "cell_type": "code",
   "execution_count": 21,
   "metadata": {},
   "outputs": [
    {
     "data": {
      "text/plain": [
       "array([[<AxesSubplot:title={'center':'X1'}>,\n",
       "        <AxesSubplot:title={'center':'X2'}>],\n",
       "       [<AxesSubplot:title={'center':'X3'}>,\n",
       "        <AxesSubplot:title={'center':'X4'}>],\n",
       "       [<AxesSubplot:title={'center':'X7'}>,\n",
       "        <AxesSubplot:title={'center':'const'}>]], dtype=object)"
      ]
     },
     "execution_count": 21,
     "metadata": {},
     "output_type": "execute_result"
    },
    {
     "data": {
      "image/png": "[encoded data removed]",
      "text/plain": [
       "<Figure size 576x720 with 6 Axes>"
      ]
     },
     "metadata": {
      "needs_background": "light"
     },
     "output_type": "display_data"
    }
   ],
   "source": [
    "ols_boot.boot_df.hist(figsize=(8, 10), bins=50)"
   ]
  },
  {
   "cell_type": "code",
   "execution_count": 18,
   "metadata": {},
   "outputs": [
    {
     "data": {
      "text/html": [
       "<div>\n",
       "<style scoped>\n",
       "    .dataframe tbody tr th:only-of-type {\n",
       "        vertical-align: middle;\n",
       "    }\n",
       "\n",
       "    .dataframe tbody tr th {\n",
       "        vertical-align: top;\n",
       "    }\n",
       "\n",
       "    .dataframe thead th {\n",
       "        text-align: right;\n",
       "    }\n",
       "</style>\n",
       "<table border=\"1\" class=\"dataframe\">\n",
       "  <thead>\n",
       "    <tr style=\"text-align: right;\">\n",
       "      <th></th>\n",
       "      <th>X1</th>\n",
       "      <th>X2</th>\n",
       "      <th>X3</th>\n",
       "      <th>X4</th>\n",
       "      <th>X7</th>\n",
       "      <th>const</th>\n",
       "    </tr>\n",
       "  </thead>\n",
       "  <tbody>\n",
       "    <tr>\n",
       "      <th>0.025</th>\n",
       "      <td>0.484667</td>\n",
       "      <td>0.29083</td>\n",
       "      <td>0.122767</td>\n",
       "      <td>-0.262856</td>\n",
       "      <td>0.683451</td>\n",
       "      <td>2.954834</td>\n",
       "    </tr>\n",
       "    <tr>\n",
       "      <th>0.975</th>\n",
       "      <td>0.595548</td>\n",
       "      <td>0.31154</td>\n",
       "      <td>0.188347</td>\n",
       "      <td>-0.166149</td>\n",
       "      <td>0.732119</td>\n",
       "      <td>6.401361</td>\n",
       "    </tr>\n",
       "  </tbody>\n",
       "</table>\n",
       "</div>"
      ],
      "text/plain": [
       "             X1       X2        X3        X4        X7     const\n",
       "0.025  0.484667  0.29083  0.122767 -0.262856  0.683451  2.954834\n",
       "0.975  0.595548  0.31154  0.188347 -0.166149  0.732119  6.401361"
      ]
     },
     "execution_count": 18,
     "metadata": {},
     "output_type": "execute_result"
    }
   ],
   "source": [
    "ols_boot.confidence_intervals()"
   ]
  },
  {
   "cell_type": "markdown",
   "metadata": {},
   "source": [
    "Como podemos ver todas as nossas variáveis são estatisticamente significantes, ao nível de significância de 5%."
   ]
  },
  {
   "cell_type": "markdown",
   "metadata": {},
   "source": [
    "### Predição do Modelo\n",
    "\n",
    "Como sabemos pela teoria de bootstrap, temos que a média da distribuição empírica é um estimador não viezado e de variância mínima para o valor esperado da distribuição empírica. Ou seja, um bom estimador para os nossos coeficientes. Usaremos ele, portanto."
   ]
  },
  {
   "cell_type": "code",
   "execution_count": 22,
   "metadata": {},
   "outputs": [
    {
     "data": {
      "text/plain": [
       "(array([ 7.,  4.,  6., 12., 10.,  4.,  6.,  6., 12.,  7.,  8.,  9.,  2.,\n",
       "         4.,  6.,  9., 10.,  4.,  3.,  9.,  5.,  3.,  7.,  2.,  2.,  2.,\n",
       "         3.,  3.,  1.,  1.,  3.,  0.,  1.,  1.,  2.,  0.,  1.,  2.,  0.,\n",
       "         2.,  0.,  0.,  0.,  0.,  0.,  0.,  0.,  0.,  0.,  1.]),\n",
       " array([ 6.65728306,  7.30670093,  7.95611881,  8.60553668,  9.25495455,\n",
       "         9.90437243, 10.5537903 , 11.20320817, 11.85262605, 12.50204392,\n",
       "        13.15146179, 13.80087967, 14.45029754, 15.09971541, 15.74913329,\n",
       "        16.39855116, 17.04796903, 17.69738691, 18.34680478, 18.99622265,\n",
       "        19.64564053, 20.2950584 , 20.94447627, 21.59389415, 22.24331202,\n",
       "        22.89272989, 23.54214777, 24.19156564, 24.84098351, 25.49040139,\n",
       "        26.13981926, 26.78923713, 27.43865501, 28.08807288, 28.73749075,\n",
       "        29.38690863, 30.0363265 , 30.68574437, 31.33516225, 31.98458012,\n",
       "        32.63399799, 33.28341587, 33.93283374, 34.58225161, 35.23166949,\n",
       "        35.88108736, 36.53050523, 37.17992311, 37.82934098, 38.47875885,\n",
       "        39.12817673]),\n",
       " <BarContainer object of 50 artists>)"
      ]
     },
     "execution_count": 22,
     "metadata": {},
     "output_type": "execute_result"
    },
    {
     "data": {
      "image/png": "[encoded data removed]",
      "text/plain": [
       "<Figure size 432x288 with 1 Axes>"
      ]
     },
     "metadata": {
      "needs_background": "light"
     },
     "output_type": "display_data"
    }
   ],
   "source": [
    "test['const'] = 1\n",
    "y_pred = ols_boot.predict(new_data=test)\n",
    "plt.hist(y_pred, bins=50)"
   ]
  },
  {
   "cell_type": "markdown",
   "metadata": {},
   "source": [
    "### Metrics"
   ]
  },
  {
   "cell_type": "code",
   "execution_count": 23,
   "metadata": {},
   "outputs": [
    {
     "name": "stdout",
     "output_type": "stream",
     "text": [
      "R2: 0.9330294217244867\n",
      "MRSE: 3.1636625322124194\n",
      "Cor(y, y_pred): 0.9679851619347065\n"
     ]
    }
   ],
   "source": [
    "print(f\"R2: {r2_score(test['target'], y_pred)}\")\n",
    "print(f\"MRSE: {mean_squared_error(test['target'], y_pred)}\")\n",
    "print(f\"Cor(y, y_pred): {np.corrcoef(test['target'], y_pred)[0,1]}\")"
   ]
  },
  {
   "cell_type": "markdown",
   "metadata": {},
   "source": [
    "### Importância das variáveis\n",
    "\n",
    "Iremos checar a importância individual de cada variável em relação a variável 'target'. Iremos fazer isto de duas maneiras:\n",
    "\n",
    "1. Iremos retirar cada variável independentemente e depois computar score R2 e medir a diferença com e sem a variável.\n",
    "2. Calcularemos o módulo da padronização do coeficiente que nos dirá comparativamente quem tem mais impacto marginal perante a variável 'target'."
   ]
  },
  {
   "cell_type": "code",
   "execution_count": 27,
   "metadata": {},
   "outputs": [
    {
     "ename": "NameError",
     "evalue": "name 'predict_from_bootstrap' is not defined",
     "output_type": "error",
     "traceback": [
      "\u001b[0;31m---------------------------------------------------------------------------\u001b[0m",
      "\u001b[0;31mNameError\u001b[0m                                 Traceback (most recent call last)",
      "\u001b[0;32m<ipython-input-27-0468820bfb27>\u001b[0m in \u001b[0;36m<module>\u001b[0;34m\u001b[0m\n\u001b[1;32m      3\u001b[0m     \u001b[0;32mreturn\u001b[0m \u001b[0mr2_score\u001b[0m\u001b[0;34m(\u001b[0m\u001b[0my\u001b[0m\u001b[0;34m,\u001b[0m \u001b[0my_pred\u001b[0m\u001b[0;34m)\u001b[0m\u001b[0;34m\u001b[0m\u001b[0;34m\u001b[0m\u001b[0m\n\u001b[1;32m      4\u001b[0m \u001b[0;34m\u001b[0m\u001b[0m\n\u001b[0;32m----> 5\u001b[0;31m \u001b[0mpredict_from_bootstrap\u001b[0m\u001b[0;34m(\u001b[0m\u001b[0mboot_df\u001b[0m\u001b[0;34m,\u001b[0m \u001b[0mtrain\u001b[0m\u001b[0;34m)\u001b[0m\u001b[0;34m\u001b[0m\u001b[0;34m\u001b[0m\u001b[0m\n\u001b[0m",
      "\u001b[0;31mNameError\u001b[0m: name 'predict_from_bootstrap' is not defined"
     ]
    }
   ],
   "source": [
    "def get_r2_score(X, beta, y):\n",
    "    y_pred = np.matmul(X.values, beta.values)\n",
    "    return r2_score(y, y_pred)\n",
    "    \n",
    "predict_from_bootstrap(boot_df, train)"
   ]
  },
  {
   "cell_type": "markdown",
   "metadata": {},
   "source": [
    "## XGBoost\n",
    "\n",
    "Para termos uma comparação com outro modelo e vermos se chegamos a um resultado semelhante. Usaremos o modelo de árvores de decisão, em especial, o ensemble de árvores que é o XGBoost."
   ]
  },
  {
   "cell_type": "code",
   "execution_count": 26,
   "metadata": {},
   "outputs": [
    {
     "name": "stdout",
     "output_type": "stream",
     "text": [
      "R2: 0.9788583094874586\n",
      "MRSE: 0.9987247514422859\n",
      "Cor(y, y_pred): 0.9924983115423709\n"
     ]
    },
    {
     "name": "stderr",
     "output_type": "stream",
     "text": [
      "/home/adriel_martins/.cache/pypoetry/virtualenvs/desafio-oncase-Lx6s8YPY-py3.8/lib/python3.8/site-packages/xgboost/data.py:112: UserWarning: Use subset (sliced data) of np.ndarray is not recommended because it will generate extra copies and increase memory consumption\n",
      "  warnings.warn(\n"
     ]
    }
   ],
   "source": [
    "from xgboost import XGBRegressor\n",
    "xgb_r = XGBRegressor(objective ='reg:squarederror',\n",
    "                        n_estimators = 10, seed = 123)\n",
    "  \n",
    "# Fitting the model\n",
    "xgb_r.fit(train.drop(columns=['target']),\n",
    "          train['target'])\n",
    "  \n",
    "# Predict the model\n",
    "y_pred = xgb_r.predict(test.drop(columns=['target']).values)\n",
    "\n",
    "print(f\"R2: {r2_score(test['target'], y_pred)}\")\n",
    "print(f\"MRSE: {mean_squared_error(test['target'], y_pred)}\")\n",
    "print(f\"Cor(y, y_pred): {np.corrcoef(test['target'], y_pred)[0,1]}\")"
   ]
  },
  {
   "cell_type": "code",
   "execution_count": null,
   "metadata": {},
   "outputs": [],
   "source": []
  }
 ],
 "metadata": {
  "kernelspec": {
   "display_name": "Python 3",
   "language": "python",
   "name": "python3"
  },
  "language_info": {
   "codemirror_mode": {
    "name": "ipython",
    "version": 3
   },
   "file_extension": ".py",
   "mimetype": "text/x-python",
   "name": "python",
   "nbconvert_exporter": "python",
   "pygments_lexer": "ipython3",
   "version": "3.8.5"
  }
 },
 "nbformat": 4,
 "nbformat_minor": 4
}
